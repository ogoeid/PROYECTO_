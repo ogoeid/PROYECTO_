{
 "cells": [
  {
   "cell_type": "markdown",
   "id": "57251cda",
   "metadata": {},
   "source": [
    "# Configuración del Repositorio de Git\n",
    "\n",
    "Este cuaderno te guiará a través de los pasos para inicializar un repositorio de Git en esta carpeta del proyecto."
   ]
  },
  {
   "cell_type": "markdown",
   "id": "480274b8",
   "metadata": {},
   "source": [
    "## Paso 1: Inicializar el Repositorio\n",
    "\n",
    "El primer comando que necesitas ejecutar es `git init`. Esto crea un nuevo subdirectorio `.git` en tu directorio actual, que contendrá todos los archivos necesarios del repositorio."
   ]
  },
  {
   "cell_type": "code",
   "execution_count": null,
   "id": "0863ef9a",
   "metadata": {},
   "outputs": [],
   "source": [
    "# Ejecuta este comando para inicializar el repositorio de Git\n",
    "!git init"
   ]
  },
  {
   "cell_type": "markdown",
   "id": "cdb80079",
   "metadata": {},
   "source": [
    "## Paso 2: Crear un archivo `.gitignore`\n",
    "\n",
    "Es una buena práctica crear un archivo `.gitignore` para evitar que archivos innecesarios (como entornos virtuales, cachés de Python o archivos de Jupyter checkpoint) se agreguen a tu repositorio."
   ]
  },
  {
   "cell_type": "code",
   "execution_count": null,
   "id": "6da7d231",
   "metadata": {},
   "outputs": [],
   "source": [
    "%%writefile .gitignore\n",
    "# Entornos virtuales\n",
    "venv/\n",
    "*.env\n",
    "\n",
    "# Archivos de caché de Python\n",
    "__pycache__/\n",
    "*.pyc\n",
    "*.pyo\n",
    "*.pyd\n",
    "\n",
    "# Puntos de control de Jupyter Notebook\n",
    ".ipynb_checkpoints/\n",
    "\n",
    "# Archivos del sistema operativo\n",
    ".DS_Store\n",
    "Thumbs.db"
   ]
  },
  {
   "cell_type": "markdown",
   "id": "910668e4",
   "metadata": {},
   "source": [
    "## Paso 3: Revisar el estado del repositorio\n",
    "\n",
    "Ahora, puedes usar `git status` para ver los archivos nuevos que aún no han sido rastreados. Deberías ver `git_setup.ipynb` y `.gitignore`."
   ]
  },
  {
   "cell_type": "code",
   "execution_count": null,
   "id": "a41cd30e",
   "metadata": {},
   "outputs": [],
   "source": [
    "!git status"
   ]
  },
  {
   "cell_type": "markdown",
   "id": "1c8d3e74",
   "metadata": {},
   "source": [
    "## Paso 4: Añadir archivos y hacer el primer commit\n",
    "\n",
    "Finalmente, añade todos los archivos nuevos al área de preparación (staging) y haz tu primer commit para guardar los cambios en el historial del repositorio."
   ]
  },
  {
   "cell_type": "code",
   "execution_count": null,
   "id": "3465913b",
   "metadata": {},
   "outputs": [],
   "source": [
    "# Añade todos los archivos al área de preparación\n",
    "!git add .\n",
    "\n",
    "# Haz el commit con un mensaje descriptivo\n",
    "!git commit -m \"Initial commit: Set up Git repository and .gitignore\""
   ]
  },
  {
   "cell_type": "markdown",
   "id": "d6621e83",
   "metadata": {},
   "source": [
    "¡Felicidades! Has inicializado exitosamente tu repositorio de Git. Ahora puedes empezar a rastrear los cambios en tu proyecto."
   ]
  }
 ],
 "metadata": {
  "language_info": {
   "name": "python"
  }
 },
 "nbformat": 4,
 "nbformat_minor": 5
}
