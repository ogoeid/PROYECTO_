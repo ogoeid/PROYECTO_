{
 "cells": [
  {
   "cell_type": "markdown",
   "id": "57251cda",
   "metadata": {},
   "source": [
    "# Configuración del Repositorio de Git\n",
    "\n",
    "Este cuaderno te guiará a través de los pasos para inicializar un repositorio de Git en esta carpeta del proyecto."
   ]
  },
  {
   "cell_type": "markdown",
   "id": "480274b8",
   "metadata": {},
   "source": [
    "## Paso 1: Inicializar el Repositorio\n",
    "\n",
    "El primer comando que necesitas ejecutar es `git init`. Esto crea un nuevo subdirectorio `.git` en tu directorio actual, que contendrá todos los archivos necesarios del repositorio."
   ]
  },
  {
   "cell_type": "code",
   "execution_count": 2,
   "id": "0863ef9a",
   "metadata": {},
   "outputs": [
    {
     "name": "stdout",
     "output_type": "stream",
     "text": [
      "Initialized empty Git repository in C:/Users/diego/Desktop/PROYECTO_/.git/\n"
     ]
    }
   ],
   "source": [
    "# Ejecuta este comando para inicializar el repositorio de Git\n",
    "!git init"
   ]
  },
  {
   "cell_type": "markdown",
   "id": "cdb80079",
   "metadata": {},
   "source": [
    "## Paso 2: Crear un archivo `.gitignore`\n",
    "\n",
    "Es una buena práctica crear un archivo `.gitignore` para evitar que archivos innecesarios (como entornos virtuales, cachés de Python o archivos de Jupyter checkpoint) se agreguen a tu repositorio."
   ]
  },
  {
   "cell_type": "code",
   "execution_count": 3,
   "id": "6da7d231",
   "metadata": {},
   "outputs": [
    {
     "name": "stdout",
     "output_type": "stream",
     "text": [
      "Writing .gitignore\n"
     ]
    }
   ],
   "source": [
    "%%writefile .gitignore\n",
    "# Entornos virtuales\n",
    "venv/\n",
    "*.env\n",
    "\n",
    "# Archivos de caché de Python\n",
    "__pycache__/\n",
    "*.pyc\n",
    "*.pyo\n",
    "*.pyd\n",
    "\n",
    "# Puntos de control de Jupyter Notebook\n",
    ".ipynb_checkpoints/\n",
    "\n",
    "# Archivos del sistema operativo\n",
    ".DS_Store\n",
    "Thumbs.db"
   ]
  },
  {
   "cell_type": "markdown",
   "id": "910668e4",
   "metadata": {},
   "source": [
    "## Paso 3: Revisar el estado del repositorio\n",
    "\n",
    "Ahora, puedes usar `git status` para ver los archivos nuevos que aún no han sido rastreados. Deberías ver `git_setup.ipynb` y `.gitignore`."
   ]
  },
  {
   "cell_type": "code",
   "execution_count": 6,
   "id": "a41cd30e",
   "metadata": {},
   "outputs": [
    {
     "name": "stdout",
     "output_type": "stream",
     "text": [
      "On branch master\n",
      "Changes not staged for commit:\n",
      "  (use \"git add <file>...\" to update what will be committed)\n",
      "  (use \"git restore <file>...\" to discard changes in working directory)\n",
      "\tmodified:   PROGRAMA_2.py\n",
      "\n",
      "no changes added to commit (use \"git add\" and/or \"git commit -a\")\n"
     ]
    }
   ],
   "source": [
    "!git status"
   ]
  },
  {
   "cell_type": "markdown",
   "id": "1c8d3e74",
   "metadata": {},
   "source": [
    "## Paso 4: Añadir archivos y hacer el primer commit\n",
    "\n",
    "Finalmente, añade todos los archivos nuevos al área de preparación (staging) y haz tu primer commit para guardar los cambios en el historial del repositorio."
   ]
  },
  {
   "cell_type": "code",
   "execution_count": 5,
   "id": "3465913b",
   "metadata": {},
   "outputs": [
    {
     "name": "stderr",
     "output_type": "stream",
     "text": [
      "warning: in the working copy of 'datos/ejer_1/student-mat.csv', LF will be replaced by CRLF the next time Git touches it\n",
      "warning: in the working copy of 'datos/ejer_1/student-por.csv', LF will be replaced by CRLF the next time Git touches it\n",
      "warning: in the working copy of 'ejercicios/ejercicio_1.ipynb', LF will be replaced by CRLF the next time Git touches it\n",
      "warning: in the working copy of 'ejercicios/ejercicio_2.ipynb', LF will be replaced by CRLF the next time Git touches it\n",
      "warning: in the working copy of 'git_setup.ipynb', LF will be replaced by CRLF the next time Git touches it\n"
     ]
    },
    {
     "name": "stdout",
     "output_type": "stream",
     "text": [
      "[master (root-commit) f67470b] Initial commit: Set up Git repository and .gitignore\n",
      " 13 files changed, 2435 insertions(+)\n",
      " create mode 100644 # Entornos virtuales de Python.gitignore_global\n",
      " create mode 100644 .gitignore\n",
      " create mode 100644 PROGRAMA_1.py\n",
      " create mode 100644 PROGRAMA_2.py\n",
      " create mode 100644 PROGRAMA_3.py\n",
      " create mode 100644 PROGRAMA_4.py\n",
      " create mode 100644 PROGRAMA_5.py\n",
      " create mode 100644 datos/ejer_1/student-mat.csv\n",
      " create mode 100644 datos/ejer_1/student-por.csv\n",
      " create mode 100644 ejercicios/ejercicio_1.ipynb\n",
      " create mode 100644 ejercicios/ejercicio_2.ipynb\n",
      " create mode 100644 git_setup.ipynb\n",
      " create mode 100644 nombre_1\n"
     ]
    }
   ],
   "source": [
    "# Añade todos los archivos al área de preparación\n",
    "!git add .\n",
    "\n",
    "# Haz el commit con un mensaje descriptivo\n",
    "!git commit -m \"Initial commit: Set up Git repository and .gitignore\""
   ]
  },
  {
   "cell_type": "markdown",
   "id": "d6621e83",
   "metadata": {},
   "source": [
    "¡Felicidades! Has inicializado exitosamente tu repositorio de Git. Ahora puedes empezar a rastrear los cambios en tu proyecto."
   ]
  }
 ],
 "metadata": {
  "kernelspec": {
   "display_name": ".venv",
   "language": "python",
   "name": "python3"
  },
  "language_info": {
   "codemirror_mode": {
    "name": "ipython",
    "version": 3
   },
   "file_extension": ".py",
   "mimetype": "text/x-python",
   "name": "python",
   "nbconvert_exporter": "python",
   "pygments_lexer": "ipython3",
   "version": "3.13.3"
  }
 },
 "nbformat": 4,
 "nbformat_minor": 5
}
