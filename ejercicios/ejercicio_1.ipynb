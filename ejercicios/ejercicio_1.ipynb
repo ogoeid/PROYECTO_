{
 "cells": [
  {
   "cell_type": "markdown",
   "id": "c377a004",
   "metadata": {},
   "source": [
    "# Ejercicios de Análisis de Datos"
   ]
  },
  {
   "cell_type": "markdown",
   "id": "737025e4",
   "metadata": {},
   "source": [
    "## Ejercicio 1: Análisis Exploratorio de Datos de Estudiantes\n",
    "\n",
    "Este ejercicio se basa en el script `PROGRAMA_1` y utiliza el dataset `student-mat.csv`."
   ]
  },
  {
   "cell_type": "markdown",
   "id": "6f34746e",
   "metadata": {},
   "source": [
    "### Importación de Librerías"
   ]
  },
  {
   "cell_type": "code",
   "execution_count": null,
   "id": "27752933",
   "metadata": {},
   "outputs": [],
   "source": [
    "import pandas as pd\n",
    "import numpy as np\n",
    "import matplotlib.pyplot as plt\n",
    "import os\n",
    "\n",
    "# Configuración para mostrar todas las columnas y gráficos en línea\n",
    "pd.set_option('display.max_columns', None)\n",
    "%matplotlib inline"
   ]
  },
  {
   "cell_type": "markdown",
   "id": "f59e28be",
   "metadata": {},
   "source": [
    "### 1. Carga del Dataset\n",
    "\n",
    "Cargamos el archivo `student-mat.csv` desde la ruta `datos/ejer_1/`."
   ]
  },
  {
   "cell_type": "code",
   "execution_count": null,
   "id": "27b6084c",
   "metadata": {},
   "outputs": [],
   "source": [
    "# Construye la ruta al archivo CSV\n",
    "# La ruta es relativa a la ubicación de la carpeta raíz del proyecto\n",
    "nombre_archivo = \"student-mat.csv\"\n",
    "ruta = os.path.join(\"..\", \"datos\", \"ejer_1\", nombre_archivo)\n",
    "\n",
    "try:\n",
    "    print(f\"Intentando cargar el dataset desde: {ruta}\")\n",
    "    df = pd.read_csv(ruta, sep=';')\n",
    "    print(\"✅ Dataset cargado exitosamente.\")\n",
    "except FileNotFoundError:\n",
    "    print(f\"❌ ERROR: No se pudo encontrar el archivo en la ruta esperada:\\n{ruta}\")\n",
    "    print(f\"\\nPor favor, asegúrate de que la estructura de carpetas es correcta.\")\n",
    "except Exception as e:\n",
    "    print(f\"❌ Ocurrió un error inesperado al cargar el archivo: {e}\")"
   ]
  },
  {
   "cell_type": "markdown",
   "id": "33062b76",
   "metadata": {},
   "source": [
    "### 2. Exploración Básica"
   ]
  },
  {
   "cell_type": "code",
   "execution_count": null,
   "id": "d7ac7607",
   "metadata": {},
   "outputs": [],
   "source": [
    "# Dimensiones del dataset (filas, columnas)\n",
    "print(\"=== DIMENSIONES DEL DATASET ===\")\n",
    "print(df.shape)\n",
    "\n",
    "# Información general de las columnas y tipos de datos\n",
    "print(\"\\n=== INFORMACIÓN GENERAL ===\")\n",
    "df.info()"
   ]
  },
  {
   "cell_type": "code",
   "execution_count": null,
   "id": "99ec289f",
   "metadata": {},
   "outputs": [],
   "source": [
    "# Estadísticas descriptivas para todas las columnas\n",
    "print(\"\\n=== ESTADÍSTICAS DESCRIPTIVAS ===\")\n",
    "display(df.describe(include='all').T)"
   ]
  },
  {
   "cell_type": "markdown",
   "id": "024dc0e7",
   "metadata": {},
   "source": [
    "### 3. Valores Nulos"
   ]
  },
  {
   "cell_type": "code",
   "execution_count": null,
   "id": "b65b9799",
   "metadata": {},
   "outputs": [],
   "source": [
    "# Contar valores nulos por columna\n",
    "print(\"\\n=== VALORES NULOS ===\")\n",
    "valores_nulos = df.isnull().sum()\n",
    "print(valores_nulos[valores_nulos > 0])"
   ]
  },
  {
   "cell_type": "markdown",
   "id": "32019622",
   "metadata": {},
   "source": [
    "### 4. Visualización de Datos"
   ]
  },
  {
   "cell_type": "code",
   "execution_count": null,
   "id": "dd09d801",
   "metadata": {},
   "outputs": [],
   "source": [
    "# Graficar la distribución de edades de los estudiantes\n",
    "if 'age' in df.columns:\n",
    "    plt.figure(figsize=(10, 6))\n",
    "    df['age'].value_counts().sort_index().plot(kind='bar', color='skyblue')\n",
    "    plt.title('Distribución de Edades de los Estudiantes')\n",
    "    plt.xlabel('Edad')\n",
    "    plt.ylabel('Cantidad de Estudiantes')\n",
    "    plt.grid(axis='y', linestyle='--', alpha=0.7)\n",
    "    plt.show()\n",
    "else:\n",
    "    print(\"⚠️ No se encontró una columna llamada 'age' en el dataset.\")"
   ]
  },
  {
   "cell_type": "markdown",
   "id": "a1645317",
   "metadata": {},
   "source": [
    "resultados\n",
    "\n"
   ]
  }
 ],
 "metadata": {
  "kernelspec": {
   "display_name": ".venv",
   "language": "python",
   "name": "python3"
  },
  "language_info": {
   "name": "python",
   "version": "3.13.3"
  }
 },
 "nbformat": 4,
 "nbformat_minor": 5
}
