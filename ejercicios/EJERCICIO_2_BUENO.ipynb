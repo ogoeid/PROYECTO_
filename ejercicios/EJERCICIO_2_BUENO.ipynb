{
 "cells": [
  {
   "cell_type": "markdown",
   "id": "7c65c842",
   "metadata": {},
   "source": [
    "# ================================================================\n",
    "# EJERCICIO 2 - Comparación de rendimiento entre Pandas y Dask\n",
    "# ================================================================\n",
    "# Este script compara el tiempo de ejecución y el uso de memoria\n",
    "# al leer un archivo CSV grande (230 MB) usando Pandas y Dask.\n",
    "# Se ejecuta correctamente en un entorno de Jupyter Notebook.\n",
    "# ================================================================"
   ]
  },
  {
   "cell_type": "markdown",
   "id": "9001f0f2",
   "metadata": {},
   "source": []
  },
  {
   "cell_type": "code",
   "execution_count": 1,
   "id": "c5b05ac3",
   "metadata": {},
   "outputs": [],
   "source": [
    "\n",
    "# Importación de librerías necesarias\n",
    "import pandas as pd              # Librería para manipulación de datos\n",
    "import dask.dataframe as dd      # Librería para procesamiento de datos grandes\n",
    "import time                      # Para medir tiempos de ejecución\n",
    "import requests                  # Para descargar el archivo desde una URL\n",
    "import os                        # Para manejar rutas y verificar archivos\n",
    "import matplotlib.pyplot as plt   # Para graficar resultados\n",
    "\n",
    "try:\n",
    "    from memory_profiler import memory_usage  # Para medir el uso de memoria\n",
    "except ImportError:\n",
    "    # memory_profiler no está disponible: usar un fallback simple que ejecuta la función y devuelve 0.0\n",
    "    def memory_usage(callable_or_tuple, interval=0.5, **kwargs):\n",
    "        if isinstance(callable_or_tuple, tuple):\n",
    "            func, args = callable_or_tuple\n",
    "            func(*args)\n",
    "        else:\n",
    "            callable_or_tuple()\n",
    "        return [0.0]"
   ]
  },
  {
   "cell_type": "markdown",
   "id": "ef4cd8c4",
   "metadata": {},
   "source": [
    "# ================================================================\n",
    "# DESCARGA DEL ARCHIVO (solo si no existe localmente)\n",
    "# ================================================================\n",
    "# Apuntamos directamente al archivo local de calidad de vinos."
   ]
  },
  {
   "cell_type": "code",
   "execution_count": 2,
   "id": "b67875bb",
   "metadata": {},
   "outputs": [
    {
     "name": "stdout",
     "output_type": "stream",
     "text": [
      "Archivo ya disponible localmente.\n"
     ]
    }
   ],
   "source": [
    "\n",
    "URL=\"https://archive.ics.uci.edu/static/public/186/wine+quality.zip\"\n",
    "FILE = r\"C:\\Users\\diego\\Desktop\\PROYECTO_\\datos\\ejer_2\\winequality-white.csv\"\n",
    "\n",
    "# Si el archivo no está en la carpeta actual, lo descarga\n",
    "if not os.path.exists(FILE):\n",
    "    print(f\"❌ ERROR: No se pudo encontrar el archivo en la ruta:\\n{FILE}\")\n",
    "    print(\"\\nPor favor, asegúrate de que el archivo exista.\")\n",
    "    exit()\n",
    "else:\n",
    "    print(\"Archivo ya disponible localmente.\")"
   ]
  },
  {
   "cell_type": "markdown",
   "id": "f63b3e8c",
   "metadata": {},
   "source": [
    "# ================================================================\n",
    "# DEFINICIÓN DE FUNCIONES DE LECTURA\n",
    "# ================================================================\n",
    "# Estas funciones encapsulan la lectura del CSV con cada librería."
   ]
  },
  {
   "cell_type": "code",
   "execution_count": 3,
   "id": "8020ef4f",
   "metadata": {},
   "outputs": [],
   "source": [
    "\n",
    "def pandas_read(path):\n",
    "    \"\"\"Lee el CSV completo usando Pandas.\"\"\"\n",
    "    return pd.read_csv(path, sep=';')\n",
    "\n",
    "def dask_read(path):\n",
    "    \"\"\"Lee el CSV por particiones usando Dask, manejando valores faltantes.\"\"\"\n",
    "    # Añadimos assume_missing=True para que Dask trate los valores\n",
    "    # vacíos en columnas numéricas como NaN (Not a Number).\n",
    "    return dd.read_csv(path, sep=';', assume_missing=True)"
   ]
  },
  {
   "cell_type": "markdown",
   "id": "ccf7057e",
   "metadata": {},
   "source": [
    "\n",
    "# ================================================================\n",
    "# COMPARACIÓN DE RENDIMIENTO\n",
    "# ================================================================\n",
    "# Se mide tanto el tiempo de ejecución como el uso máximo de memoria\n",
    "# durante la lectura con Pandas y Dask.\n"
   ]
  },
  {
   "cell_type": "code",
   "execution_count": 4,
   "id": "3d8c3021",
   "metadata": {},
   "outputs": [],
   "source": [
    "\n",
    "times = {}  # Diccionario para almacenar los tiempos\n",
    "mem = {}    # Diccionario para almacenar los picos de memoria\n",
    "\n",
    "# --- Medición con Pandas ---\n",
    "t0 = time.time()\n",
    "mem_p = memory_usage((pandas_read, (FILE,)), interval=0.1)  # Monitorea memoria\n",
    "df_p = pandas_read(FILE)  # Carga del CSV\n",
    "times['pandas'] = time.time() - t0\n",
    "mem['pandas'] = max(mem_p)\n",
    "\n",
    "# --- Medición con Dask ---\n",
    "# Dask carga los datos en paralelo y usa menos memoria.\n",
    "t0 = time.time()\n",
    "mem_d = memory_usage((lambda: dask_read(FILE).compute()), interval=0.1)\n",
    "df_d = dask_read(FILE).compute()  # compute() convierte Dask DataFrame a Pandas\n",
    "times['dask'] = time.time() - t0\n",
    "mem['dask'] = max(mem_d)\n",
    "\n"
   ]
  },
  {
   "cell_type": "markdown",
   "id": "2814469d",
   "metadata": {},
   "source": [
    "\n",
    "# ================================================================\n",
    "# RESULTADOS NUMÉRICOS\n",
    "# ================================================================"
   ]
  },
  {
   "cell_type": "code",
   "execution_count": 5,
   "id": "cf5b1c5d",
   "metadata": {},
   "outputs": [
    {
     "name": "stdout",
     "output_type": "stream",
     "text": [
      "Tiempos de ejecución (segundos): {'pandas': 3.9807541370391846, 'dask': 1.376661777496338}\n",
      "Pico de memoria (MB): {'pandas': 177.7421875, 'dask': 184.06640625}\n"
     ]
    }
   ],
   "source": [
    "\n",
    "# ================================================================\n",
    "# RESULTADOS NUMÉRICOS\n",
    "# ================================================================\n",
    "print(\"Tiempos de ejecución (segundos):\", times)\n",
    "print(\"Pico de memoria (MB):\", mem)\n"
   ]
  },
  {
   "cell_type": "markdown",
   "id": "48872d0e",
   "metadata": {},
   "source": [
    "# ================================================================\n",
    "# OPERACIÓN DE VALIDACIÓN\n",
    "# ================================================================\n",
    "# Se calcula la media de la columna 'alcohol' en ambos casos\n",
    "# para verificar que los resultados sean equivalentes."
   ]
  },
  {
   "cell_type": "code",
   "execution_count": 6,
   "id": "adaf73b0",
   "metadata": {},
   "outputs": [
    {
     "name": "stdout",
     "output_type": "stream",
     "text": [
      "Media de 'alcohol' con Pandas: 10.514267047774602\n",
      "Media de 'alcohol' con Dask: 10.514267047774602\n"
     ]
    }
   ],
   "source": [
    "op_p = df_p.alcohol.mean()\n",
    "op_d = df_d.alcohol.mean()\n",
    "print(\"Media de 'alcohol' con Pandas:\", op_p)\n",
    "print(\"Media de 'alcohol' con Dask:\", op_d)\n"
   ]
  },
  {
   "cell_type": "markdown",
   "id": "5b9c6036",
   "metadata": {},
   "source": [
    "# ================================================================\n",
    "# VISUALIZACIÓN DE RESULTADOS\n",
    "# ================================================================\n",
    "# Se grafican los tiempos y el uso de memoria para comparar."
   ]
  },
  {
   "cell_type": "code",
   "execution_count": 7,
   "id": "bfda97a7",
   "metadata": {},
   "outputs": [
    {
     "data": {
      "image/png": "[encoded data removed]",
      "text/plain": [
       "<Figure size 1000x300 with 2 Axes>"
      ]
     },
     "metadata": {},
     "output_type": "display_data"
    }
   ],
   "source": [
    "\n",
    "fig, ax = plt.subplots(1, 2, figsize=(10, 3))\n",
    "\n",
    "# Gráfico de tiempo\n",
    "ax[0].bar(times.keys(), times.values())\n",
    "ax[0].set_ylabel(\"Tiempo total (s)\")\n",
    "ax[0].set_title(\"Lectura de CSV (230 MB)\")\n",
    "\n",
    "# Gráfico de memoria\n",
    "ax[1].bar(mem.keys(), mem.values())\n",
    "ax[1].set_ylabel(\"Memoria pico (MB)\")\n",
    "ax[1].set_title(\"Uso de memoria\")\n",
    "\n",
    "plt.tight_layout()\n",
    "plt.show()\n"
   ]
  }
 ],
 "metadata": {
  "kernelspec": {
   "display_name": ".venv",
   "language": "python",
   "name": "python3"
  },
  "language_info": {
   "codemirror_mode": {
    "name": "ipython",
    "version": 3
   },
   "file_extension": ".py",
   "mimetype": "text/x-python",
   "name": "python",
   "nbconvert_exporter": "python",
   "pygments_lexer": "ipython3",
   "version": "3.13.3"
  }
 },
 "nbformat": 4,
 "nbformat_minor": 5
}
