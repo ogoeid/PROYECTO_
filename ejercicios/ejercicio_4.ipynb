{
 "cells": [
  {
   "cell_type": "markdown",
   "id": "cd1cff7f",
   "metadata": {},
   "source": [
    "# comparacion de librerias de visualizacion de datos\n",
    " se busca mostrar graficos de cada una de estas, para comparar estas "
   ]
  },
  {
   "cell_type": "markdown",
   "id": "88410afd",
   "metadata": {},
   "source": [
    "# carga de librerias "
   ]
  },
  {
   "cell_type": "code",
   "execution_count": 1,
   "id": "1a101533",
   "metadata": {},
   "outputs": [],
   "source": [
    "\n",
    "import pandas as pd\n",
    "import matplotlib.pyplot as plt\n",
    "import seaborn as sns\n",
    "import plotly.express as px\n",
    "\n",
    "# configuracion para dar color al fondo de seaborn\n",
    "sns.set_theme(style=\"whitegrid\")"
   ]
  },
  {
   "cell_type": "markdown",
   "id": "0973a8a2",
   "metadata": {},
   "source": [
    "# carda de los datos a usar en cada visualizacion"
   ]
  },
  {
   "cell_type": "code",
   "execution_count": 2,
   "id": "bf56a658",
   "metadata": {},
   "outputs": [
    {
     "name": "stdout",
     "output_type": "stream",
     "text": [
      "Dataset cargado con éxito.\n",
      "Forma del dataset (filas, columnas): (649, 33)\n",
      "\n",
      "Primeras 5 filas del dataset:\n"
     ]
    },
    {
     "data": {
      "text/html": [
       "<div>\n",
       "<style scoped>\n",
       "    .dataframe tbody tr th:only-of-type {\n",
       "        vertical-align: middle;\n",
       "    }\n",
       "\n",
       "    .dataframe tbody tr th {\n",
       "        vertical-align: top;\n",
       "    }\n",
       "\n",
       "    .dataframe thead th {\n",
       "        text-align: right;\n",
       "    }\n",
       "</style>\n",
       "<table border=\"1\" class=\"dataframe\">\n",
       "  <thead>\n",
       "    <tr style=\"text-align: right;\">\n",
       "      <th></th>\n",
       "      <th>school</th>\n",
       "      <th>sex</th>\n",
       "      <th>age</th>\n",
       "      <th>address</th>\n",
       "      <th>famsize</th>\n",
       "      <th>Pstatus</th>\n",
       "      <th>Medu</th>\n",
       "      <th>Fedu</th>\n",
       "      <th>Mjob</th>\n",
       "      <th>Fjob</th>\n",
       "      <th>...</th>\n",
       "      <th>famrel</th>\n",
       "      <th>freetime</th>\n",
       "      <th>goout</th>\n",
       "      <th>Dalc</th>\n",
       "      <th>Walc</th>\n",
       "      <th>health</th>\n",
       "      <th>absences</th>\n",
       "      <th>G1</th>\n",
       "      <th>G2</th>\n",
       "      <th>G3</th>\n",
       "    </tr>\n",
       "  </thead>\n",
       "  <tbody>\n",
       "    <tr>\n",
       "      <th>0</th>\n",
       "      <td>GP</td>\n",
       "      <td>F</td>\n",
       "      <td>18</td>\n",
       "      <td>U</td>\n",
       "      <td>GT3</td>\n",
       "      <td>A</td>\n",
       "      <td>4</td>\n",
       "      <td>4</td>\n",
       "      <td>at_home</td>\n",
       "      <td>teacher</td>\n",
       "      <td>...</td>\n",
       "      <td>4</td>\n",
       "      <td>3</td>\n",
       "      <td>4</td>\n",
       "      <td>1</td>\n",
       "      <td>1</td>\n",
       "      <td>3</td>\n",
       "      <td>4</td>\n",
       "      <td>0</td>\n",
       "      <td>11</td>\n",
       "      <td>11</td>\n",
       "    </tr>\n",
       "    <tr>\n",
       "      <th>1</th>\n",
       "      <td>GP</td>\n",
       "      <td>F</td>\n",
       "      <td>17</td>\n",
       "      <td>U</td>\n",
       "      <td>GT3</td>\n",
       "      <td>T</td>\n",
       "      <td>1</td>\n",
       "      <td>1</td>\n",
       "      <td>at_home</td>\n",
       "      <td>other</td>\n",
       "      <td>...</td>\n",
       "      <td>5</td>\n",
       "      <td>3</td>\n",
       "      <td>3</td>\n",
       "      <td>1</td>\n",
       "      <td>1</td>\n",
       "      <td>3</td>\n",
       "      <td>2</td>\n",
       "      <td>9</td>\n",
       "      <td>11</td>\n",
       "      <td>11</td>\n",
       "    </tr>\n",
       "    <tr>\n",
       "      <th>2</th>\n",
       "      <td>GP</td>\n",
       "      <td>F</td>\n",
       "      <td>15</td>\n",
       "      <td>U</td>\n",
       "      <td>LE3</td>\n",
       "      <td>T</td>\n",
       "      <td>1</td>\n",
       "      <td>1</td>\n",
       "      <td>at_home</td>\n",
       "      <td>other</td>\n",
       "      <td>...</td>\n",
       "      <td>4</td>\n",
       "      <td>3</td>\n",
       "      <td>2</td>\n",
       "      <td>2</td>\n",
       "      <td>3</td>\n",
       "      <td>3</td>\n",
       "      <td>6</td>\n",
       "      <td>12</td>\n",
       "      <td>13</td>\n",
       "      <td>12</td>\n",
       "    </tr>\n",
       "    <tr>\n",
       "      <th>3</th>\n",
       "      <td>GP</td>\n",
       "      <td>F</td>\n",
       "      <td>15</td>\n",
       "      <td>U</td>\n",
       "      <td>GT3</td>\n",
       "      <td>T</td>\n",
       "      <td>4</td>\n",
       "      <td>2</td>\n",
       "      <td>health</td>\n",
       "      <td>services</td>\n",
       "      <td>...</td>\n",
       "      <td>3</td>\n",
       "      <td>2</td>\n",
       "      <td>2</td>\n",
       "      <td>1</td>\n",
       "      <td>1</td>\n",
       "      <td>5</td>\n",
       "      <td>0</td>\n",
       "      <td>14</td>\n",
       "      <td>14</td>\n",
       "      <td>14</td>\n",
       "    </tr>\n",
       "    <tr>\n",
       "      <th>4</th>\n",
       "      <td>GP</td>\n",
       "      <td>F</td>\n",
       "      <td>16</td>\n",
       "      <td>U</td>\n",
       "      <td>GT3</td>\n",
       "      <td>T</td>\n",
       "      <td>3</td>\n",
       "      <td>3</td>\n",
       "      <td>other</td>\n",
       "      <td>other</td>\n",
       "      <td>...</td>\n",
       "      <td>4</td>\n",
       "      <td>3</td>\n",
       "      <td>2</td>\n",
       "      <td>1</td>\n",
       "      <td>2</td>\n",
       "      <td>5</td>\n",
       "      <td>0</td>\n",
       "      <td>11</td>\n",
       "      <td>13</td>\n",
       "      <td>13</td>\n",
       "    </tr>\n",
       "  </tbody>\n",
       "</table>\n",
       "<p>5 rows × 33 columns</p>\n",
       "</div>"
      ],
      "text/plain": [
       "  school sex  age address famsize Pstatus  Medu  Fedu     Mjob      Fjob  ...  \\\n",
       "0     GP   F   18       U     GT3       A     4     4  at_home   teacher  ...   \n",
       "1     GP   F   17       U     GT3       T     1     1  at_home     other  ...   \n",
       "2     GP   F   15       U     LE3       T     1     1  at_home     other  ...   \n",
       "3     GP   F   15       U     GT3       T     4     2   health  services  ...   \n",
       "4     GP   F   16       U     GT3       T     3     3    other     other  ...   \n",
       "\n",
       "  famrel freetime  goout  Dalc  Walc health absences  G1  G2  G3  \n",
       "0      4        3      4     1     1      3        4   0  11  11  \n",
       "1      5        3      3     1     1      3        2   9  11  11  \n",
       "2      4        3      2     2     3      3        6  12  13  12  \n",
       "3      3        2      2     1     1      5        0  14  14  14  \n",
       "4      4        3      2     1     2      5        0  11  13  13  \n",
       "\n",
       "[5 rows x 33 columns]"
      ]
     },
     "metadata": {},
     "output_type": "display_data"
    }
   ],
   "source": [
    "#ruta de archivo\n",
    "file_path = r'C:\\Users\\diego\\Desktop\\PROYECTO_\\datos\\ejer_4\\student-por.csv'\n",
    "\n",
    "# Cargar los datos especificando el separador ';'\n",
    "try:\n",
    "    df = pd.read_csv(file_path, sep=';')\n",
    "    print(\"Dataset cargado con éxito.\")\n",
    "    print(\"Forma del dataset (filas, columnas):\", df.shape)\n",
    "    \n",
    "    # Mostrar las primeras filas para verificar\n",
    "    print(\"\\nPrimeras 5 filas del dataset:\")\n",
    "    display(df.head())\n",
    "    \n",
    "except FileNotFoundError:\n",
    "    print(f\"ERROR: No se encontró el archivo en la ruta:\\n{file_path}\")"
   ]
  },
  {
   "cell_type": "markdown",
   "id": "0b0143cc",
   "metadata": {},
   "source": [
    "# primer grafico MATPLOTLIB\n",
    " una libreria \"fundamental\" de python (es subjetivo a lo que buscas graficar)"
   ]
  },
  {
   "cell_type": "code",
   "execution_count": 3,
   "id": "aebb9a52",
   "metadata": {},
   "outputs": [
    {
     "data": {
      "image/png": "[encoded data removed]",
      "text/plain": [
       "<Figure size 1000x600 with 1 Axes>"
      ]
     },
     "metadata": {},
     "output_type": "display_data"
    }
   ],
   "source": [
    "# Crear un histograma \n",
    "plt.figure(figsize=(10, 6)) # Define el tamaño de la figura\n",
    "\n",
    "plt.hist(df['G3'], bins=20, color='skyblue', edgecolor='black')\n",
    "\n",
    "#títulos y etiquetas para mayor claridad\n",
    "plt.title('Distribución de las Notas Finales (G3)', fontsize=16)\n",
    "plt.xlabel('Nota Final (G3)', fontsize=12)\n",
    "plt.ylabel('Frecuencia (Número de Estudiantes)', fontsize=12)\n",
    "plt.grid(axis='y', linestyle='--', alpha=0.7)\n",
    "\n",
    "# gráfico\n",
    "plt.show()"
   ]
  },
  {
   "cell_type": "markdown",
   "id": "1508e079",
   "metadata": {},
   "source": [
    "# segundo grafico SEABORN\n",
    " librería basada en Matplotlib que simplifica la creación de gráficos estadísticos atractivos"
   ]
  },
  {
   "cell_type": "code",
   "execution_count": 4,
   "id": "addb21bd",
   "metadata": {},
   "outputs": [
    {
     "data": {
      "image/png": "[encoded data removed]",
      "text/plain": [
       "<Figure size 1200x700 with 1 Axes>"
      ]
     },
     "metadata": {},
     "output_type": "display_data"
    }
   ],
   "source": [
    "# Crear un boxplot con Seaborn\n",
    "plt.figure(figsize=(12, 7)) # Define el tamaño \n",
    "\n",
    "sns.boxplot(x='studytime', y='G3', data=df)\n",
    "\n",
    "# títulos y etiquetas\n",
    "plt.title('Notas Finales (G3) vs. Tiempo de Estudio Semanal', fontsize=16)\n",
    "plt.xlabel('Tiempo de Estudio (1: <2h, 2: 2-5h, 3: 5-10h, 4: >10h)', fontsize=12)\n",
    "plt.ylabel('Nota Final (G3)', fontsize=12)\n",
    "\n",
    "# grafico\n",
    "plt.show()"
   ]
  },
  {
   "cell_type": "markdown",
   "id": "b9ec0c92",
   "metadata": {},
   "source": [
    "# tercer grafico PLOTLY\n",
    " ideal para crear graficos interactivos"
   ]
  },
  {
   "cell_type": "code",
   "execution_count": 5,
   "id": "fa3a1670",
   "metadata": {},
   "outputs": [
    {
     "data": {
      "application/vnd.plotly.v1+json": {
       "config": {
        "plotlyServerURL": "https://plot.ly"
       },
       "data": [
        {
         "customdata": {
          "bdata": "BAISAgIRBgIPAAMPAAIQAgIRAgIPAAMPBgEQCgMQAgIQAgMPBgEQBAEPAgMPCAEPEAIQDgIQBAIPBgIQAgIPAAIQAAIPAAEPAAEPAgIQAAIPAgIQAAIQAAEQAAIQAAMQAAIPAgIQAAQQAAIPBgQPAgIPBAIQAQQQDgIQBAIPAgIPBAIPBgIQBAMPAgMQBgEPAAIQAgIQBAQPAAIQBAEQAgMQEAIPCgQPBAQPAgMQBAMQDAIQAAIPAgIQAAIQAAIPAAITAAMPCgISCAERBgEPAgERDAEQDAEQBAMPAAIQCgMSCAEQBAEQBgEPAgEPGAIPAgMPBAEQAAIPAAEPAgIPBgIPBgIPAgMPAAERBgESAAIQAAIQAAIQAAIQAAIQAAIQAAIRIAIRCAIQCgIRBgIQAAIRCAIRHgERAAIQAgIQBAIQAAIRFQERBgQQDgMRAgIQBAIQAgEQAAMRBAQTAAIQBgERAgIREAIRBAERAAMRAAIRDAMRAAIQBAMQBAISAgIRAAMRAAIRBAEQAAIQEgISEAISDgESBAIRCgMRBAEQAgIRDgERCAERBAMRBAIRAgIRCgMRCgIRCgMSBAIRAgISAgQRAAITAgMRBAMSBAISAgQRCAIUAgISAgMRAAMSCAISDAISEAITCgQSAgISCAISBgIRBgIRDwISAgISCAMRAAITAgQSAAISDAIRCgISAAMSAAMRAAMRAAQRAgITAAISAAQSAAISAAMRAAMRAAQRAgISAgISAgIRAgERAgMSCAESAgMRCAISAAISBAESAgERDgIRAAIRAgIRDAMTAgITAgESBAIRAAMRAAMRAAMRAAMSAAMRBAMRAgERAgISAAMRCAISAAISBgQSCAMRAAIRBAQSAAIREgIRAAMSBAMSAAMRCgIRBAIREAETBgERAAMVAAIRAAISCAMUBQETBQMSCgISBQEUBAISCwEQAAIQBgEPBAEPAAIQAAEPAAIRAAERAAEPBAQQAAIPBAEPAAEQAgERAAEPBgMQAwEPAgIQBAIQAAMQAwMQAAIPAAIQAAQQAgMQAQIPAAEQAAIPAgMPCQISAQIQBAIPAgIQAAEQAAMPAgEQAAIQBAERAAETAgERAAEPAQIQBgEQAAIRAQEQBgMSBgMTBAESDAITAgIQBQERAAIQAAEQAgEQAAIQAAEQAAQQAAMTAAERCAIUAAMRAAIQAAIRAQIRCQISAAEQAgEQCAISAAIQAAEQCAISBgIQAAIQBAIQAgIQAQERBQERAQEQAAIQAgMQCAIQBQERAAIRAQMQAAIRAgIRAAIRAwERBQMQAgIRAAIQCAIQCQERCAESAgISAAETAAESAAERBQMRAAIRAwISAAERAAERAwISAgISAAERAAISAAISAAIRAAISBAISAAMSAAISAgISAAETAAQRBQIRAgISAAISAAITBQMSAAISAgIRAAIRAAMSAAISBgISBAIRAAIRAAERAAESAAISCAMRBAERAAMSBAMSBAITAQISAQISCgIRAAMSAAIRBAESBAMTBAISBgIS",
          "dtype": "i1",
          "shape": "383, 3"
         },
         "hovertemplate": "sex=F<br>G1=%{x}<br>G3=%{y}<br>absences=%{customdata[0]}<br>studytime=%{customdata[1]}<br>age=%{customdata[2]}<extra></extra>",
         "legendgroup": "F",
         "marker": {
          "color": "#636efa",
          "symbol": "circle"
         },
         "mode": "markers",
         "name": "F",
         "orientation": "v",
         "showlegend": true,
         "type": "scatter",
         "x": {
          "bdata": "AAkMDgsKDgoRDQ0KCgsLDgsKCg0NDhANDQwPEBEKDQ4NEAoLDw0LDQwMDQwNDwkODA0NDQwMCwoKDwsIDg4MCgkKCgsLDQ8NDQ4MDAkNCAkNCgwLCw0LDQ0LEQwQDg4NEQ4ODAwMDg4LDgsODQ0ICw4MCwwNDA4LDAwLDA0PCBEPDgkOCgkIDgsMDQkLDw8LCwoMCwwOCgsLCwoKDw8LCggLEA0ODwwMDg0JEQwMDBINERIODRAOBxASCgwLDw4MDwsMCw4PDAsKCAoOCxEODg0PCwoPCgoOCwwODgoLDgsMDAoKCQ0OCwkODggKCgwKChAGCgYNCgoGDAoOEAsPCQoJCQ0NCgsNDQ4JDg0MDgwKBwkJCQkJBwsJBwcJBwgJCA4ODhEODAsLCxAPCwcIBwkODggGCAgHDQkLDgsJCQsKDQsRCg0HCwUHCgYGCAoICAcIBwcMCwwSEQkICwUJBRILCAsIDgoMDxMQDQ8NCAoHCgcPCgcNEAgOBgcKDws=",
          "dtype": "i1"
         },
         "xaxis": "x",
         "y": {
          "bdata": "CwsMDg0NDg0RDg4KDAsMDAoLCw0MDRAMDQwPEBAQCg0MEAoLDwsLDQsLDAwLDwsNDA4NDA0NCgoKDgsKDg0LCwsMCAsNDA4LDw0LCwoOCQkNCwwKCw0LDQ0LEg0RDQ8OEQ4QDg0MEBALDwwPDQ0IDA8NDAwNCw8KDQ0LDA4QCBEQDAoNCgoHDwoLDQgKDw4MCwoLCw0RCw4ODQwMDw0NDAoMEA0PEAwKDQ8KEg0ODhIOEhMNDhEPCBASCw8OEREPEQ4NDhERDQ4LCQoNChEPDg0PCwoPDAwODg8PEA4OEQ0PEAsNDBERDwsREQoNCwwKCxEJCgcOCwoIDAwQEQ0PCwgICQ8NCgsODgwIDgwMEA4ICAoKCwkLCAsKCgkKCQoKCQ0ODhAODQsKChIRCgcIBwoQDwgICggIDgkLEAsKCwsMEAsSCg0KDAcKCggHAAsIAAgJCgcODQ4SEgAKDQAKABIMCwwADwoMDxIPDQ8NCQoADAkRDAkOEAkPCwoKEAk=",
          "dtype": "i1"
         },
         "yaxis": "y"
        },
        {
         "customdata": {
          "bdata": "BgIQAAIQAAIPAAIPAAEPAAIPAAMPAgERBgEQAAIPAAEPAAIQAgIQCAEPAAEPAgIQBAIQAAIPAgIPAAIPAAIPBAEQAAMPBAMQCAEPAAIPAAEPAgQQBAIPBAEPCAIPAAIPAAQPAgQQAAQPAAEQAAIPAAQPAAERAAEPAgMPAgIPBgIQBgIQAgQPBgEQDAEQAAMQAgEPAAIPBAMQCAQPBAEPCgEPBAIPBgIQBAIPBgEQDgIRAgEPBgQPBAEQAgEPCAEQBAMQBAEQAgIPAgIRAgESAAIQBgQPAAMQBAEQFgEREAEQAAEPAAESBgEQBgETAAIPDgERBAEQAAIQAAEQCAERBAIRAgEPAgEQAAIRCgERAAIQBAEQAAIQAAIRAAIRBAIRCAEQBAIRBAIQAAIQBgIRAAEQAAIQBgIREAIRAAEQAAEQBAEREAEQDwIRCgISCgISCQISAAIRAgISAAIRAAIRAAIQAgIQAAMQAAIRGgESBgEREAISCAIRAAIRBwEQBAEQAgMRBwEQAgERDAEWCAISAAEQCAESBAIQBAESAgEQAAERAAERBAISBAITAgISAAERAgISAgMSCAERBgISAAIRBAISAgIRBgESAAESCgESFgEREgERAAIRAAMSAAISAgISAAMSAAERAAESAAERAAMTAAEUAAITCQITAgESAAMSAAERAgERAAQSAAETBgESAAISBgISBAMSAAMSCwISCQISAgMRFQIVCgIRDQESCgETBQIQAAMQAAIQBAIRAAIPBwIPBAIQCAIPAAIPCAERAAIQBAERBgEQAAEPAQEPAAIQBAEQAgEPCwEPAAESAAQRDAERCAEQAgQRAAERAAIQAgQSAAMRAAMQCAERAAIRAgIQAAEQCwIPCAQPCwEPAgERAgERCAIRAAEQAAIQAAIRAgITBAERBAEQAAERAAESAAERBgISAAERAgEQAAEQAgESAAESBAETCQISBgEQBAETDAEUCAESCAITBAIRAAESBAETAwESCAESBQESBAERBAIRAgESAAISAAMSAwESBAISAAESBAIRAAETAAESBgERBAES",
          "dtype": "i1",
          "shape": "266, 3"
         },
         "hovertemplate": "sex=M<br>G1=%{x}<br>G3=%{y}<br>absences=%{customdata[0]}<br>studytime=%{customdata[1]}<br>age=%{customdata[2]}<extra></extra>",
         "legendgroup": "M",
         "marker": {
          "color": "#EF553B",
          "symbol": "circle"
         },
         "mode": "markers",
         "name": "M",
         "orientation": "v",
         "showlegend": true,
         "type": "scatter",
         "x": {
          "bdata": "DA0PDAwMDggMDAsMCgsLDAwKDw0NDA4NCg4JEQsKDw4LDQsNCwwJCwoNDAkLCQkQDBANDA0SChAQDgwODgwJDg0JDAoLCgkPDAkJDAsJCwcJDAoJCAcICQgICQkQCwoLCgsLCwsKDQkKCw0NCg0MCgoKCQwNDQkMEAcKCA8MDg4NDwkHCgsHCQcODAkLCxAJCgoIDwsKEAsKCgsNDA4RDw4OEgwJDgoLCA0RCwsLDwwQDw4JDQwJEA0HCgoHCAwHCQcLCAoKCwoNDQoKDAgKBg4KCggFDwoHCgkLCQ0MCQwICgwNCQsJCAwKCgcLCgkEBgQHCAgJCggJCBEKDAwKDggPCREHDgUHCgo=",
          "dtype": "i1"
         },
         "xaxis": "x",
         "y": {
          "bdata": "DQ0RDQwNDwcMDgwOCgwLDQwLDw8MDA4NCw8KEQ0JEA4MCwoOCwsKDAkNCwoMCwgQDBAOCw4SCg4QDwsODQ0JDw0LCwoMCgsNCwYICwAKCwgKCwEKCQgKCAgICwoSCgsKCw0LDQ4LEAoMCgwODAwLCgoLCw0NDgkMEAgJCA8MDw8PEA0FCgsHCgYMDQoLDhAKCwwJEA4OEgwKCwoNDA8REA8PEQ0LDwsKCw0RCgwKDw0REQ4MDw8KEg4LCwsACQ4ICwkLCQsLCwsNDQoLCwoKBw0JCQAGEAoJCggMCg4MCAwICw0NCgwLCg0KCgAKCQkACQgICQoLCwoJChELDg4LDgkQChMAEAAACgs=",
          "dtype": "i1"
         },
         "yaxis": "y"
        }
       ],
       "layout": {
        "legend": {
         "title": {
          "text": "Sexo"
         },
         "tracegroupgap": 0
        },
        "template": {
         "data": {
          "bar": [
           {
            "error_x": {
             "color": "#2a3f5f"
            },
            "error_y": {
             "color": "#2a3f5f"
            },
            "marker": {
             "line": {
              "color": "#E5ECF6",
              "width": 0.5
             },
             "pattern": {
              "fillmode": "overlay",
              "size": 10,
              "solidity": 0.2
             }
            },
            "type": "bar"
           }
          ],
          "barpolar": [
           {
            "marker": {
             "line": {
              "color": "#E5ECF6",
              "width": 0.5
             },
             "pattern": {
              "fillmode": "overlay",
              "size": 10,
              "solidity": 0.2
             }
            },
            "type": "barpolar"
           }
          ],
          "carpet": [
           {
            "aaxis": {
             "endlinecolor": "#2a3f5f",
             "gridcolor": "white",
             "linecolor": "white",
             "minorgridcolor": "white",
             "startlinecolor": "#2a3f5f"
            },
            "baxis": {
             "endlinecolor": "#2a3f5f",
             "gridcolor": "white",
             "linecolor": "white",
             "minorgridcolor": "white",
             "startlinecolor": "#2a3f5f"
            },
            "type": "carpet"
           }
          ],
          "choropleth": [
           {
            "colorbar": {
             "outlinewidth": 0,
             "ticks": ""
            },
            "type": "choropleth"
           }
          ],
          "contour": [
           {
            "colorbar": {
             "outlinewidth": 0,
             "ticks": ""
            },
            "colorscale": [
             [
              0,
              "#0d0887"
             ],
             [
              0.1111111111111111,
              "#46039f"
             ],
             [
              0.2222222222222222,
              "#7201a8"
             ],
             [
              0.3333333333333333,
              "#9c179e"
             ],
             [
              0.4444444444444444,
              "#bd3786"
             ],
             [
              0.5555555555555556,
              "#d8576b"
             ],
             [
              0.6666666666666666,
              "#ed7953"
             ],
             [
              0.7777777777777778,
              "#fb9f3a"
             ],
             [
              0.8888888888888888,
              "#fdca26"
             ],
             [
              1,
              "#f0f921"
             ]
            ],
            "type": "contour"
           }
          ],
          "contourcarpet": [
           {
            "colorbar": {
             "outlinewidth": 0,
             "ticks": ""
            },
            "type": "contourcarpet"
           }
          ],
          "heatmap": [
           {
            "colorbar": {
             "outlinewidth": 0,
             "ticks": ""
            },
            "colorscale": [
             [
              0,
              "#0d0887"
             ],
             [
              0.1111111111111111,
              "#46039f"
             ],
             [
              0.2222222222222222,
              "#7201a8"
             ],
             [
              0.3333333333333333,
              "#9c179e"
             ],
             [
              0.4444444444444444,
              "#bd3786"
             ],
             [
              0.5555555555555556,
              "#d8576b"
             ],
             [
              0.6666666666666666,
              "#ed7953"
             ],
             [
              0.7777777777777778,
              "#fb9f3a"
             ],
             [
              0.8888888888888888,
              "#fdca26"
             ],
             [
              1,
              "#f0f921"
             ]
            ],
            "type": "heatmap"
           }
          ],
          "histogram": [
           {
            "marker": {
             "pattern": {
              "fillmode": "overlay",
              "size": 10,
              "solidity": 0.2
             }
            },
            "type": "histogram"
           }
          ],
          "histogram2d": [
           {
            "colorbar": {
             "outlinewidth": 0,
             "ticks": ""
            },
            "colorscale": [
             [
              0,
              "#0d0887"
             ],
             [
              0.1111111111111111,
              "#46039f"
             ],
             [
              0.2222222222222222,
              "#7201a8"
             ],
             [
              0.3333333333333333,
              "#9c179e"
             ],
             [
              0.4444444444444444,
              "#bd3786"
             ],
             [
              0.5555555555555556,
              "#d8576b"
             ],
             [
              0.6666666666666666,
              "#ed7953"
             ],
             [
              0.7777777777777778,
              "#fb9f3a"
             ],
             [
              0.8888888888888888,
              "#fdca26"
             ],
             [
              1,
              "#f0f921"
             ]
            ],
            "type": "histogram2d"
           }
          ],
          "histogram2dcontour": [
           {
            "colorbar": {
             "outlinewidth": 0,
             "ticks": ""
            },
            "colorscale": [
             [
              0,
              "#0d0887"
             ],
             [
              0.1111111111111111,
              "#46039f"
             ],
             [
              0.2222222222222222,
              "#7201a8"
             ],
             [
              0.3333333333333333,
              "#9c179e"
             ],
             [
              0.4444444444444444,
              "#bd3786"
             ],
             [
              0.5555555555555556,
              "#d8576b"
             ],
             [
              0.6666666666666666,
              "#ed7953"
             ],
             [
              0.7777777777777778,
              "#fb9f3a"
             ],
             [
              0.8888888888888888,
              "#fdca26"
             ],
             [
              1,
              "#f0f921"
             ]
            ],
            "type": "histogram2dcontour"
           }
          ],
          "mesh3d": [
           {
            "colorbar": {
             "outlinewidth": 0,
             "ticks": ""
            },
            "type": "mesh3d"
           }
          ],
          "parcoords": [
           {
            "line": {
             "colorbar": {
              "outlinewidth": 0,
              "ticks": ""
             }
            },
            "type": "parcoords"
           }
          ],
          "pie": [
           {
            "automargin": true,
            "type": "pie"
           }
          ],
          "scatter": [
           {
            "fillpattern": {
             "fillmode": "overlay",
             "size": 10,
             "solidity": 0.2
            },
            "type": "scatter"
           }
          ],
          "scatter3d": [
           {
            "line": {
             "colorbar": {
              "outlinewidth": 0,
              "ticks": ""
             }
            },
            "marker": {
             "colorbar": {
              "outlinewidth": 0,
              "ticks": ""
             }
            },
            "type": "scatter3d"
           }
          ],
          "scattercarpet": [
           {
            "marker": {
             "colorbar": {
              "outlinewidth": 0,
              "ticks": ""
             }
            },
            "type": "scattercarpet"
           }
          ],
          "scattergeo": [
           {
            "marker": {
             "colorbar": {
              "outlinewidth": 0,
              "ticks": ""
             }
            },
            "type": "scattergeo"
           }
          ],
          "scattergl": [
           {
            "marker": {
             "colorbar": {
              "outlinewidth": 0,
              "ticks": ""
             }
            },
            "type": "scattergl"
           }
          ],
          "scattermap": [
           {
            "marker": {
             "colorbar": {
              "outlinewidth": 0,
              "ticks": ""
             }
            },
            "type": "scattermap"
           }
          ],
          "scattermapbox": [
           {
            "marker": {
             "colorbar": {
              "outlinewidth": 0,
              "ticks": ""
             }
            },
            "type": "scattermapbox"
           }
          ],
          "scatterpolar": [
           {
            "marker": {
             "colorbar": {
              "outlinewidth": 0,
              "ticks": ""
             }
            },
            "type": "scatterpolar"
           }
          ],
          "scatterpolargl": [
           {
            "marker": {
             "colorbar": {
              "outlinewidth": 0,
              "ticks": ""
             }
            },
            "type": "scatterpolargl"
           }
          ],
          "scatterternary": [
           {
            "marker": {
             "colorbar": {
              "outlinewidth": 0,
              "ticks": ""
             }
            },
            "type": "scatterternary"
           }
          ],
          "surface": [
           {
            "colorbar": {
             "outlinewidth": 0,
             "ticks": ""
            },
            "colorscale": [
             [
              0,
              "#0d0887"
             ],
             [
              0.1111111111111111,
              "#46039f"
             ],
             [
              0.2222222222222222,
              "#7201a8"
             ],
             [
              0.3333333333333333,
              "#9c179e"
             ],
             [
              0.4444444444444444,
              "#bd3786"
             ],
             [
              0.5555555555555556,
              "#d8576b"
             ],
             [
              0.6666666666666666,
              "#ed7953"
             ],
             [
              0.7777777777777778,
              "#fb9f3a"
             ],
             [
              0.8888888888888888,
              "#fdca26"
             ],
             [
              1,
              "#f0f921"
             ]
            ],
            "type": "surface"
           }
          ],
          "table": [
           {
            "cells": {
             "fill": {
              "color": "#EBF0F8"
             },
             "line": {
              "color": "white"
             }
            },
            "header": {
             "fill": {
              "color": "#C8D4E3"
             },
             "line": {
              "color": "white"
             }
            },
            "type": "table"
           }
          ]
         },
         "layout": {
          "annotationdefaults": {
           "arrowcolor": "#2a3f5f",
           "arrowhead": 0,
           "arrowwidth": 1
          },
          "autotypenumbers": "strict",
          "coloraxis": {
           "colorbar": {
            "outlinewidth": 0,
            "ticks": ""
           }
          },
          "colorscale": {
           "diverging": [
            [
             0,
             "#8e0152"
            ],
            [
             0.1,
             "#c51b7d"
            ],
            [
             0.2,
             "#de77ae"
            ],
            [
             0.3,
             "#f1b6da"
            ],
            [
             0.4,
             "#fde0ef"
            ],
            [
             0.5,
             "#f7f7f7"
            ],
            [
             0.6,
             "#e6f5d0"
            ],
            [
             0.7,
             "#b8e186"
            ],
            [
             0.8,
             "#7fbc41"
            ],
            [
             0.9,
             "#4d9221"
            ],
            [
             1,
             "#276419"
            ]
           ],
           "sequential": [
            [
             0,
             "#0d0887"
            ],
            [
             0.1111111111111111,
             "#46039f"
            ],
            [
             0.2222222222222222,
             "#7201a8"
            ],
            [
             0.3333333333333333,
             "#9c179e"
            ],
            [
             0.4444444444444444,
             "#bd3786"
            ],
            [
             0.5555555555555556,
             "#d8576b"
            ],
            [
             0.6666666666666666,
             "#ed7953"
            ],
            [
             0.7777777777777778,
             "#fb9f3a"
            ],
            [
             0.8888888888888888,
             "#fdca26"
            ],
            [
             1,
             "#f0f921"
            ]
           ],
           "sequentialminus": [
            [
             0,
             "#0d0887"
            ],
            [
             0.1111111111111111,
             "#46039f"
            ],
            [
             0.2222222222222222,
             "#7201a8"
            ],
            [
             0.3333333333333333,
             "#9c179e"
            ],
            [
             0.4444444444444444,
             "#bd3786"
            ],
            [
             0.5555555555555556,
             "#d8576b"
            ],
            [
             0.6666666666666666,
             "#ed7953"
            ],
            [
             0.7777777777777778,
             "#fb9f3a"
            ],
            [
             0.8888888888888888,
             "#fdca26"
            ],
            [
             1,
             "#f0f921"
            ]
           ]
          },
          "colorway": [
           "#636efa",
           "#EF553B",
           "#00cc96",
           "#ab63fa",
           "#FFA15A",
           "#19d3f3",
           "#FF6692",
           "#B6E880",
           "#FF97FF",
           "#FECB52"
          ],
          "font": {
           "color": "#2a3f5f"
          },
          "geo": {
           "bgcolor": "white",
           "lakecolor": "white",
           "landcolor": "#E5ECF6",
           "showlakes": true,
           "showland": true,
           "subunitcolor": "white"
          },
          "hoverlabel": {
           "align": "left"
          },
          "hovermode": "closest",
          "mapbox": {
           "style": "light"
          },
          "paper_bgcolor": "white",
          "plot_bgcolor": "#E5ECF6",
          "polar": {
           "angularaxis": {
            "gridcolor": "white",
            "linecolor": "white",
            "ticks": ""
           },
           "bgcolor": "#E5ECF6",
           "radialaxis": {
            "gridcolor": "white",
            "linecolor": "white",
            "ticks": ""
           }
          },
          "scene": {
           "xaxis": {
            "backgroundcolor": "#E5ECF6",
            "gridcolor": "white",
            "gridwidth": 2,
            "linecolor": "white",
            "showbackground": true,
            "ticks": "",
            "zerolinecolor": "white"
           },
           "yaxis": {
            "backgroundcolor": "#E5ECF6",
            "gridcolor": "white",
            "gridwidth": 2,
            "linecolor": "white",
            "showbackground": true,
            "ticks": "",
            "zerolinecolor": "white"
           },
           "zaxis": {
            "backgroundcolor": "#E5ECF6",
            "gridcolor": "white",
            "gridwidth": 2,
            "linecolor": "white",
            "showbackground": true,
            "ticks": "",
            "zerolinecolor": "white"
           }
          },
          "shapedefaults": {
           "line": {
            "color": "#2a3f5f"
           }
          },
          "ternary": {
           "aaxis": {
            "gridcolor": "white",
            "linecolor": "white",
            "ticks": ""
           },
           "baxis": {
            "gridcolor": "white",
            "linecolor": "white",
            "ticks": ""
           },
           "bgcolor": "#E5ECF6",
           "caxis": {
            "gridcolor": "white",
            "linecolor": "white",
            "ticks": ""
           }
          },
          "title": {
           "x": 0.05
          },
          "xaxis": {
           "automargin": true,
           "gridcolor": "white",
           "linecolor": "white",
           "ticks": "",
           "title": {
            "standoff": 15
           },
           "zerolinecolor": "white",
           "zerolinewidth": 2
          },
          "yaxis": {
           "automargin": true,
           "gridcolor": "white",
           "linecolor": "white",
           "ticks": "",
           "title": {
            "standoff": 15
           },
           "zerolinecolor": "white",
           "zerolinewidth": 2
          }
         }
        },
        "title": {
         "text": "Relación entre Notas del Primer Período (G1) y Finales (G3)"
        },
        "xaxis": {
         "anchor": "y",
         "domain": [
          0,
          1
         ],
         "title": {
          "text": "Nota del Primer Período (G1)"
         }
        },
        "yaxis": {
         "anchor": "x",
         "domain": [
          0,
          1
         ],
         "title": {
          "text": "Nota Final (G3)"
         }
        }
       }
      }
     },
     "metadata": {},
     "output_type": "display_data"
    }
   ],
   "source": [
    "# Crear un grafico de dispersión interactivo con Plotly Express\n",
    "fig = px.scatter(\n",
    "    df,\n",
    "    x='G1',\n",
    "    y='G3',\n",
    "    color='sex',  # Colorear los puntos según el sexo del estudiante\n",
    "    hover_data=['absences', 'studytime', 'age'], # Datos que aparecen al pasar el mouse\n",
    "    title='Relación entre Notas del Primer Período (G1) y Finales (G3)'\n",
    ")\n",
    "\n",
    "# ejes y el título\n",
    "fig.update_layout(\n",
    "    xaxis_title='Nota del Primer Período (G1)',\n",
    "    yaxis_title='Nota Final (G3)',\n",
    "    legend_title='Sexo'\n",
    ")\n",
    "\n",
    "# Mostrar el gráfico\n",
    "fig.show()"
   ]
  }
 ],
 "metadata": {
  "kernelspec": {
   "display_name": ".venv",
   "language": "python",
   "name": "python3"
  },
  "language_info": {
   "codemirror_mode": {
    "name": "ipython",
    "version": 3
   },
   "file_extension": ".py",
   "mimetype": "text/x-python",
   "name": "python",
   "nbconvert_exporter": "python",
   "pygments_lexer": "ipython3",
   "version": "3.13.3"
  }
 },
 "nbformat": 4,
 "nbformat_minor": 5
}
