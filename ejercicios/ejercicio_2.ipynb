{
 "cells": [
  {
   "cell_type": "markdown",
   "id": "8f0e94b6",
   "metadata": {},
   "source": [
    "# Ejercicio 2: Comparación de rendimiento entre Pandas y Dask\n",
    "\n",
    "Este ejercicio compara el tiempo de ejecución y el uso de memoria al leer un archivo CSV grande (~230 MB) usando Pandas y Dask."
   ]
  },
  {
   "cell_type": "markdown",
   "id": "308da5e1",
   "metadata": {},
   "source": [
    "### Instalación de Librerías Adicionales\n",
    "\n",
    "Para este ejercicio, necesitamos instalar `dask` para el procesamiento en paralelo, `requests` para descargar el archivo y `memory_profiler` para medir el uso de memoria."
   ]
  },
  {
   "cell_type": "code",
   "execution_count": 1,
   "id": "57f37fd6",
   "metadata": {},
   "outputs": [
    {
     "name": "stdout",
     "output_type": "stream",
     "text": [
      "Requirement already satisfied: memory_profiler in c:\\users\\diego\\desktop\\proyecto_\\.venv\\lib\\site-packages (0.61.0)\n",
      "Requirement already satisfied: requests in c:\\users\\diego\\desktop\\proyecto_\\.venv\\lib\\site-packages (2.32.5)\n",
      "Requirement already satisfied: dask[complete] in c:\\users\\diego\\desktop\\proyecto_\\.venv\\lib\\site-packages (2025.9.1)\n",
      "Requirement already satisfied: click>=8.1 in c:\\users\\diego\\desktop\\proyecto_\\.venv\\lib\\site-packages (from dask[complete]) (8.3.0)\n",
      "Requirement already satisfied: cloudpickle>=3.0.0 in c:\\users\\diego\\desktop\\proyecto_\\.venv\\lib\\site-packages (from dask[complete]) (3.1.1)\n",
      "Requirement already satisfied: fsspec>=2021.09.0 in c:\\users\\diego\\desktop\\proyecto_\\.venv\\lib\\site-packages (from dask[complete]) (2025.9.0)\n",
      "Requirement already satisfied: packaging>=20.0 in c:\\users\\diego\\desktop\\proyecto_\\.venv\\lib\\site-packages (from dask[complete]) (25.0)\n",
      "Requirement already satisfied: partd>=1.4.0 in c:\\users\\diego\\desktop\\proyecto_\\.venv\\lib\\site-packages (from dask[complete]) (1.4.2)\n",
      "Requirement already satisfied: pyyaml>=5.3.1 in c:\\users\\diego\\desktop\\proyecto_\\.venv\\lib\\site-packages (from dask[complete]) (6.0.3)\n",
      "Requirement already satisfied: toolz>=0.10.0 in c:\\users\\diego\\desktop\\proyecto_\\.venv\\lib\\site-packages (from dask[complete]) (1.0.0)\n",
      "Requirement already satisfied: pyarrow>=14.0.1 in c:\\users\\diego\\desktop\\proyecto_\\.venv\\lib\\site-packages (from dask[complete]) (21.0.0)\n",
      "Requirement already satisfied: lz4>=4.3.2 in c:\\users\\diego\\desktop\\proyecto_\\.venv\\lib\\site-packages (from dask[complete]) (4.4.4)\n",
      "Requirement already satisfied: psutil in c:\\users\\diego\\desktop\\proyecto_\\.venv\\lib\\site-packages (from memory_profiler) (7.1.0)\n",
      "Requirement already satisfied: charset_normalizer<4,>=2 in c:\\users\\diego\\desktop\\proyecto_\\.venv\\lib\\site-packages (from requests) (3.4.3)\n",
      "Requirement already satisfied: idna<4,>=2.5 in c:\\users\\diego\\desktop\\proyecto_\\.venv\\lib\\site-packages (from requests) (3.11)\n",
      "Requirement already satisfied: urllib3<3,>=1.21.1 in c:\\users\\diego\\desktop\\proyecto_\\.venv\\lib\\site-packages (from requests) (2.5.0)\n",
      "Requirement already satisfied: certifi>=2017.4.17 in c:\\users\\diego\\desktop\\proyecto_\\.venv\\lib\\site-packages (from requests) (2025.10.5)\n",
      "Requirement already satisfied: colorama in c:\\users\\diego\\desktop\\proyecto_\\.venv\\lib\\site-packages (from click>=8.1->dask[complete]) (0.4.6)\n",
      "Requirement already satisfied: locket in c:\\users\\diego\\desktop\\proyecto_\\.venv\\lib\\site-packages (from partd>=1.4.0->dask[complete]) (1.0.0)\n",
      "Requirement already satisfied: numpy>=1.24 in c:\\users\\diego\\desktop\\proyecto_\\.venv\\lib\\site-packages (from dask[complete]) (2.3.3)\n",
      "Requirement already satisfied: pandas>=2.0 in c:\\users\\diego\\desktop\\proyecto_\\.venv\\lib\\site-packages (from dask[complete]) (2.3.3)\n",
      "Requirement already satisfied: distributed==2025.9.1 in c:\\users\\diego\\desktop\\proyecto_\\.venv\\lib\\site-packages (from dask[complete]) (2025.9.1)\n",
      "Requirement already satisfied: bokeh>=3.1.0 in c:\\users\\diego\\desktop\\proyecto_\\.venv\\lib\\site-packages (from dask[complete]) (3.8.0)\n",
      "Requirement already satisfied: jinja2>=2.10.3 in c:\\users\\diego\\desktop\\proyecto_\\.venv\\lib\\site-packages (from dask[complete]) (3.1.6)\n",
      "Requirement already satisfied: msgpack>=1.0.2 in c:\\users\\diego\\desktop\\proyecto_\\.venv\\lib\\site-packages (from distributed==2025.9.1->dask[complete]) (1.1.2)\n",
      "Requirement already satisfied: sortedcontainers>=2.0.5 in c:\\users\\diego\\desktop\\proyecto_\\.venv\\lib\\site-packages (from distributed==2025.9.1->dask[complete]) (2.4.0)\n",
      "Requirement already satisfied: tblib>=1.6.0 in c:\\users\\diego\\desktop\\proyecto_\\.venv\\lib\\site-packages (from distributed==2025.9.1->dask[complete]) (3.1.0)\n",
      "Requirement already satisfied: tornado>=6.2.0 in c:\\users\\diego\\desktop\\proyecto_\\.venv\\lib\\site-packages (from distributed==2025.9.1->dask[complete]) (6.5.2)\n",
      "Requirement already satisfied: zict>=3.0.0 in c:\\users\\diego\\desktop\\proyecto_\\.venv\\lib\\site-packages (from distributed==2025.9.1->dask[complete]) (3.0.0)\n",
      "Requirement already satisfied: contourpy>=1.2 in c:\\users\\diego\\desktop\\proyecto_\\.venv\\lib\\site-packages (from bokeh>=3.1.0->dask[complete]) (1.3.3)\n",
      "Requirement already satisfied: narwhals>=1.13 in c:\\users\\diego\\desktop\\proyecto_\\.venv\\lib\\site-packages (from bokeh>=3.1.0->dask[complete]) (2.8.0)\n",
      "Requirement already satisfied: pillow>=7.1.0 in c:\\users\\diego\\desktop\\proyecto_\\.venv\\lib\\site-packages (from bokeh>=3.1.0->dask[complete]) (11.3.0)\n",
      "Requirement already satisfied: xyzservices>=2021.09.1 in c:\\users\\diego\\desktop\\proyecto_\\.venv\\lib\\site-packages (from bokeh>=3.1.0->dask[complete]) (2025.4.0)\n",
      "Requirement already satisfied: MarkupSafe>=2.0 in c:\\users\\diego\\desktop\\proyecto_\\.venv\\lib\\site-packages (from jinja2>=2.10.3->dask[complete]) (3.0.3)\n",
      "Requirement already satisfied: python-dateutil>=2.8.2 in c:\\users\\diego\\desktop\\proyecto_\\.venv\\lib\\site-packages (from pandas>=2.0->dask[complete]) (2.9.0.post0)\n",
      "Requirement already satisfied: pytz>=2020.1 in c:\\users\\diego\\desktop\\proyecto_\\.venv\\lib\\site-packages (from pandas>=2.0->dask[complete]) (2025.2)\n",
      "Requirement already satisfied: tzdata>=2022.7 in c:\\users\\diego\\desktop\\proyecto_\\.venv\\lib\\site-packages (from pandas>=2.0->dask[complete]) (2025.2)\n",
      "Requirement already satisfied: six>=1.5 in c:\\users\\diego\\desktop\\proyecto_\\.venv\\lib\\site-packages (from python-dateutil>=2.8.2->pandas>=2.0->dask[complete]) (1.17.0)\n",
      "Note: you may need to restart the kernel to use updated packages.\n"
     ]
    }
   ],
   "source": [
    "# Ejecuta esta celda para instalar las librerías necesarias\n",
    "%pip install \"dask[complete]\" memory_profiler requests"
   ]
  },
  {
   "cell_type": "markdown",
   "id": "05b1b48a",
   "metadata": {},
   "source": [
    "### Importación de Librerías"
   ]
  },
  {
   "cell_type": "code",
   "execution_count": 2,
   "id": "65431c8a",
   "metadata": {},
   "outputs": [],
   "source": [
    "import pandas as pd\n",
    "import dask.dataframe as dd\n",
    "import time\n",
    "import requests\n",
    "import os\n",
    "import matplotlib.pyplot as plt\n",
    "from memory_profiler import memory_usage\n",
    "\n",
    "# Configuración para gráficos en línea\n",
    "%matplotlib inline"
   ]
  },
  {
   "cell_type": "markdown",
   "id": "42ce2695",
   "metadata": {},
   "source": [
    "### 1. Descarga del Dataset\n",
    "\n",
    "El siguiente código descargará el archivo `yellow_tripdata_2016-01.csv` y lo guardará en la carpeta `datos/ejer_2/`. La descarga solo se realizará si el archivo no existe."
   ]
  },
  {
   "cell_type": "code",
   "execution_count": 3,
   "id": "11598938",
   "metadata": {},
   "outputs": [
    {
     "name": "stdout",
     "output_type": "stream",
     "text": [
      "Descargando archivo (~230 MB) en ..\\datos\\ejer_2\\yellow_tripdata_2016-01.csv...\n",
      "Descarga completa.\n",
      "Descarga completa.\n"
     ]
    }
   ],
   "source": [
    "# Definir la URL y la ruta de destino del archivo\n",
    "URL = \"https://archive.ics.uci.edu/ml/machine-learning-databases/00347/yellow_tripdata_2016-01.csv\"\n",
    "datos_dir = os.path.join(\"..\", \"datos\", \"ejer_2\")\n",
    "FILE_PATH = os.path.join(datos_dir, \"yellow_tripdata_2016-01.csv\")\n",
    "\n",
    "# Crear el directorio si no existe\n",
    "os.makedirs(datos_dir, exist_ok=True)\n",
    "\n",
    "# Descargar el archivo si no existe localmente\n",
    "if not os.path.exists(FILE_PATH):\n",
    "    print(f\"Descargando archivo (~230 MB) en {FILE_PATH}...\")\n",
    "    r = requests.get(URL, stream=True)\n",
    "    with open(FILE_PATH, \"wb\") as f:\n",
    "        for chunk in r.iter_content(chunk_size=1024*1024):\n",
    "            f.write(chunk)\n",
    "    print(\"Descarga completa.\")\n",
    "else:\n",
    "    print(f\"Archivo ya disponible en {FILE_PATH}.\")"
   ]
  },
  {
   "cell_type": "markdown",
   "id": "ded9e122",
   "metadata": {},
   "source": [
    "### 2. Definición de Funciones de Lectura"
   ]
  },
  {
   "cell_type": "code",
   "execution_count": 4,
   "id": "18686ac9",
   "metadata": {},
   "outputs": [],
   "source": [
    "def pandas_read(path):\n",
    "    \"\"\"Lee el CSV completo usando Pandas.\"\"\"\n",
    "    return pd.read_csv(path)\n",
    "\n",
    "def dask_read(path):\n",
    "    \"\"\"Define la lectura del CSV con Dask (evaluación perezosa).\"\"\"\n",
    "    return dd.read_csv(path)"
   ]
  },
  {
   "cell_type": "markdown",
   "id": "d646eaa6",
   "metadata": {},
   "source": [
    "### 3. Comparación de Rendimiento\n",
    "\n",
    "Medimos el tiempo de ejecución y el pico de uso de memoria para leer el archivo con ambas librerías. **Nota:** Esta celda puede tardar varios minutos en ejecutarse y consumir una cantidad significativa de RAM."
   ]
  },
  {
   "cell_type": "code",
   "execution_count": 5,
   "id": "cdafaeea",
   "metadata": {},
   "outputs": [
    {
     "name": "stdout",
     "output_type": "stream",
     "text": [
      "--- Realizando medición con Pandas ---\n",
      "Medición con Pandas completada. Tiempo: 4.11s, Memoria: 159.37MB\n",
      "\n",
      "--- Realizando medición con Dask ---\n",
      "Medición con Pandas completada. Tiempo: 4.11s, Memoria: 159.37MB\n",
      "\n",
      "--- Realizando medición con Dask ---\n",
      "Medición con Dask completada. Tiempo: 1.71s, Memoria: 170.86MB\n",
      "Medición con Dask completada. Tiempo: 1.71s, Memoria: 170.86MB\n"
     ]
    }
   ],
   "source": [
    "times = {}  # Diccionario para almacenar los tiempos\n",
    "mem = {}    # Diccionario para almacenar los picos de memoria\n",
    "\n",
    "print(\"--- Realizando medición con Pandas ---\")\n",
    "t0 = time.time()\n",
    "# memory_usage monitorea el uso de memoria de la función pandas_read\n",
    "mem_p = memory_usage((pandas_read, (FILE_PATH,)), interval=0.1, timeout=240) # Timeout para evitar que se congele indefinidamente\n",
    "df_p = pandas_read(FILE_PATH)\n",
    "times['pandas'] = time.time() - t0\n",
    "mem['pandas'] = max(mem_p) if mem_p else 0\n",
    "print(f\"Medición con Pandas completada. Tiempo: {times['pandas']:.2f}s, Memoria: {mem['pandas']:.2f}MB\")\n",
    "\n",
    "print(\"\\n--- Realizando medición con Dask ---\")\n",
    "t0 = time.time()\n",
    "# Para Dask, medimos la memoria durante la ejecución real con .compute()\n",
    "ddf = dask_read(FILE_PATH)\n",
    "mem_d = memory_usage((ddf.compute,), interval=0.1, timeout=240)\n",
    "times['dask'] = time.time() - t0\n",
    "mem['dask'] = max(mem_d) if mem_d else 0\n",
    "print(f\"Medición con Dask completada. Tiempo: {times['dask']:.2f}s, Memoria: {mem['dask']:.2f}MB\")"
   ]
  },
  {
   "cell_type": "markdown",
   "id": "fc50715a",
   "metadata": {},
   "source": [
    "### 4. Resultados y Visualización"
   ]
  },
  {
   "cell_type": "code",
   "execution_count": 6,
   "id": "ee087dde",
   "metadata": {},
   "outputs": [
    {
     "name": "stdout",
     "output_type": "stream",
     "text": [
      "Tiempos de ejecución (segundos): {'pandas': 4.107657194137573, 'dask': 1.7140998840332031}\n",
      "Pico de memoria (MB): {'pandas': 159.3671875, 'dask': 170.86328125}\n"
     ]
    },
    {
     "data": {
      "image/png": "[encoded data removed]",
      "text/plain": [
       "<Figure size 1200x500 with 2 Axes>"
      ]
     },
     "metadata": {},
     "output_type": "display_data"
    }
   ],
   "source": [
    "print(\"Tiempos de ejecución (segundos):\", times)\n",
    "print(\"Pico de memoria (MB):\", mem)\n",
    "\n",
    "# Visualización de resultados\n",
    "fig, ax = plt.subplots(1, 2, figsize=(12, 5))\n",
    "\n",
    "# Gráfico de tiempo\n",
    "ax[0].bar(times.keys(), times.values(), color=['#1f77b4', '#ff7f0e'])\n",
    "ax[0].set_ylabel(\"Tiempo total (s)\")\n",
    "ax[0].set_title(\"Tiempo de Lectura de CSV (230 MB)\")\n",
    "\n",
    "# Gráfico de memoria\n",
    "ax[1].bar(mem.keys(), mem.values(), color=['#1f77b4', '#ff7f0e'])\n",
    "ax[1].set_ylabel(\"Memoria pico (MB)\")\n",
    "ax[1].set_title(\"Uso de Memoria Durante la Lectura\")\n",
    "\n",
    "plt.tight_layout()\n",
    "plt.show()"
   ]
  },
  {
   "cell_type": "markdown",
   "id": "a333c443",
   "metadata": {},
   "source": [
    "### 5. Validación de Datos\n",
    "\n",
    "Para asegurarnos de que ambas librerías leyeron los datos correctamente, calculamos una métrica simple (la media de una columna) y comparamos los resultados."
   ]
  },
  {
   "cell_type": "code",
   "execution_count": 7,
   "id": "a0a2c659",
   "metadata": {},
   "outputs": [
    {
     "ename": "AttributeError",
     "evalue": "'DataFrame' object has no attribute 'passenger_count'",
     "output_type": "error",
     "traceback": [
      "\u001b[31m---------------------------------------------------------------------------\u001b[39m",
      "\u001b[31mAttributeError\u001b[39m                            Traceback (most recent call last)",
      "\u001b[32m~\\AppData\\Local\\Temp\\ipykernel_14580\\3352747255.py\u001b[39m in \u001b[36m?\u001b[39m\u001b[34m()\u001b[39m\n\u001b[32m      1\u001b[39m \u001b[38;5;66;03m# Para validar, calculamos la media de una columna en ambos dataframes\u001b[39;00m\n\u001b[32m      2\u001b[39m \u001b[38;5;66;03m# Primero, obtenemos el dataframe de pandas a partir del de dask\u001b[39;00m\n\u001b[32m      3\u001b[39m df_d = ddf.compute()\n\u001b[32m      4\u001b[39m \n\u001b[32m----> \u001b[39m\u001b[32m5\u001b[39m op_p = df_p.passenger_count.mean()\n\u001b[32m      6\u001b[39m op_d = df_d.passenger_count.mean()\n\u001b[32m      7\u001b[39m \n\u001b[32m      8\u001b[39m print(f\"Media de 'passenger_count' con Pandas: {op_p:.4f}\")\n",
      "\u001b[32mc:\\Users\\diego\\Desktop\\PROYECTO_\\.venv\\Lib\\site-packages\\pandas\\core\\generic.py\u001b[39m in \u001b[36m?\u001b[39m\u001b[34m(self, name)\u001b[39m\n\u001b[32m   6317\u001b[39m             \u001b[38;5;28;01mand\u001b[39;00m name \u001b[38;5;28;01mnot\u001b[39;00m \u001b[38;5;28;01min\u001b[39;00m self._accessors\n\u001b[32m   6318\u001b[39m             \u001b[38;5;28;01mand\u001b[39;00m self._info_axis._can_hold_identifiers_and_holds_name(name)\n\u001b[32m   6319\u001b[39m         ):\n\u001b[32m   6320\u001b[39m             \u001b[38;5;28;01mreturn\u001b[39;00m self[name]\n\u001b[32m-> \u001b[39m\u001b[32m6321\u001b[39m         \u001b[38;5;28;01mreturn\u001b[39;00m object.__getattribute__(self, name)\n",
      "\u001b[31mAttributeError\u001b[39m: 'DataFrame' object has no attribute 'passenger_count'"
     ]
    }
   ],
   "source": [
    "# Para validar, calculamos la media de una columna en ambos dataframes\n",
    "# Primero, obtenemos el dataframe de pandas a partir del de dask\n",
    "df_d = ddf.compute()\n",
    "\n",
    "op_p = df_p.passenger_count.mean()\n",
    "op_d = df_d.passenger_count.mean()\n",
    "\n",
    "print(f\"Media de 'passenger_count' con Pandas: {op_p:.4f}\")\n",
    "print(f\"Media de 'passenger_count' con Dask:   {op_d:.4f}\")"
   ]
  }
 ],
 "metadata": {
  "kernelspec": {
   "display_name": ".venv",
   "language": "python",
   "name": "python3"
  },
  "language_info": {
   "codemirror_mode": {
    "name": "ipython",
    "version": 3
   },
   "file_extension": ".py",
   "mimetype": "text/x-python",
   "name": "python",
   "nbconvert_exporter": "python",
   "pygments_lexer": "ipython3",
   "version": "3.13.3"
  }
 },
 "nbformat": 4,
 "nbformat_minor": 5
}
